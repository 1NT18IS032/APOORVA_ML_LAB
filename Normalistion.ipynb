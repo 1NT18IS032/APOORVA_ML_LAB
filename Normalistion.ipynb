{
 "cells": [
  {
   "cell_type": "code",
   "execution_count": 1,
   "id": "93bac816",
   "metadata": {},
   "outputs": [
    {
     "name": "stdout",
     "output_type": "stream",
     "text": [
      "Enter the size of list : 5\n",
      "Enter element : 3\n",
      "Enter element : 4\n",
      "Enter element : 6\n",
      "Enter element : 7\n",
      "Enter element : 8\n",
      "The list after normalisation is : \n",
      "0.0\n",
      "0.2\n",
      "0.6\n",
      "0.8\n",
      "1.0\n"
     ]
    }
   ],
   "source": [
    "n = int(input(\"Enter the size of list : \"))\n",
    "list = []\n",
    "for i in range(n):\n",
    "    tmp = int(input(\"Enter element : \"))\n",
    "    list.append(tmp)\n",
    "Min = min(list)\n",
    "Max = max(list)\n",
    "for i in range(n):\n",
    "    list[i] = (list[i] - Min) / (Max - Min)\n",
    "print(\"The list after normalisation is : \")\n",
    "for i in range(n):\n",
    "    print(list[i])"
   ]
  },
  {
   "cell_type": "code",
   "execution_count": 2,
   "id": "119499a9",
   "metadata": {},
   "outputs": [
    {
     "name": "stdout",
     "output_type": "stream",
     "text": [
      "[[0.         0.        ]\n",
      " [1.         0.6875    ]\n",
      " [0.62025316 0.6875    ]\n",
      " [0.09873418 0.015625  ]\n",
      " [0.04683544 1.        ]]\n"
     ]
    }
   ],
   "source": [
    "from numpy import asarray\n",
    "from sklearn.preprocessing import MinMaxScaler\n",
    "data = asarray([[10, 0.06], [800, 0.5], [500, 0.5], [88, 0.07], [47, 0.7]])\n",
    "scaler = MinMaxScaler()\n",
    "Scaled = scaler.fit_transform(data)\n",
    "print(Scaled)"
   ]
  },
  {
   "cell_type": "code",
   "execution_count": 3,
   "id": "8ba3bc14",
   "metadata": {},
   "outputs": [
    {
     "name": "stdout",
     "output_type": "stream",
     "text": [
      "[[0.         0.        ]\n",
      " [1.         0.6875    ]\n",
      " [0.62025316 0.6875    ]\n",
      " [0.09873418 0.015625  ]\n",
      " [0.04683544 1.        ]]\n"
     ]
    }
   ],
   "source": [
    "max1 = data[0][0]\n",
    "max2 = data[0][1]\n",
    "min1 = data[0][0]\n",
    "min2 = data[0][1]\n",
    "\n",
    "for i in range(5):\n",
    "    for j in range(2):\n",
    "        if(j == 0):\n",
    "            if(data[i][j] > max1):\n",
    "                max1 = data[i][j]\n",
    "            if(data[i][j] < min1):\n",
    "                min1 = data[i][j]\n",
    "        else:\n",
    "            if(data[i][j] > max2):\n",
    "                max2 = data[i][j]\n",
    "            if(data[i][j] < min2):\n",
    "                min2 = data[i][j]\n",
    "                \n",
    "for i in range(5):\n",
    "    for j in range(2):\n",
    "        if(j == 0):\n",
    "            data[i][j] = (data[i][j] - min1) / (max1 - min1)\n",
    "        else:\n",
    "            data[i][j] = (data[i][j] - min2) / (max2 - min2)\n",
    "\n",
    "print(data)"
   ]
  },
  {
   "cell_type": "code",
   "execution_count": null,
   "id": "0f651a59",
   "metadata": {},
   "outputs": [],
   "source": []
  },
  {
   "cell_type": "code",
   "execution_count": null,
   "id": "a81523b8",
   "metadata": {},
   "outputs": [],
   "source": []
  }
 ],
 "metadata": {
  "kernelspec": {
   "display_name": "Python 3 (ipykernel)",
   "language": "python",
   "name": "python3"
  },
  "language_info": {
   "codemirror_mode": {
    "name": "ipython",
    "version": 3
   },
   "file_extension": ".py",
   "mimetype": "text/x-python",
   "name": "python",
   "nbconvert_exporter": "python",
   "pygments_lexer": "ipython3",
   "version": "3.9.7"
  }
 },
 "nbformat": 4,
 "nbformat_minor": 5
}
