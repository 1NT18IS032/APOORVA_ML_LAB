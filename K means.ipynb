{
 "cells": [
  {
   "cell_type": "code",
   "execution_count": 13,
   "source": [
    "import random\r\n",
    "import math\r\n"
   ],
   "outputs": [],
   "metadata": {}
  },
  {
   "cell_type": "code",
   "execution_count": 14,
   "source": [
    "def eucldist(p0,p1):\r\n",
    "    dist = 0.0\r\n",
    "    for i in range(0,len(p0)):\r\n",
    "        dist += (p0[i] - p1[i])**2\r\n",
    "    return math.sqrt(dist)"
   ],
   "outputs": [],
   "metadata": {}
  },
  {
   "cell_type": "code",
   "execution_count": 15,
   "source": [
    "#K-Means Algorithm\r\n",
    "def kmeans(k,datapoints):\r\n",
    "\r\n",
    "    # d - Dimensionality of Datapoints\r\n",
    "    d = len(datapoints[0]) \r\n",
    "    \r\n",
    "    #Limit our iterations\r\n",
    "    Max_Iterations = 1000\r\n",
    "    i = 0\r\n",
    "    \r\n",
    "    cluster = [0] * len(datapoints)\r\n",
    "    prev_cluster = [-1] * len(datapoints)\r\n",
    "    \r\n",
    "    #Randomly Choose Centers for the Clusters\r\n",
    "    cluster_centers = []\r\n",
    "    for i in range(0,k):\r\n",
    "        new_cluster = []\r\n",
    "        #for i in range(0,d):\r\n",
    "        #    new_cluster += [random.randint(0,10)]\r\n",
    "        cluster_centers += [random.choice(datapoints)]\r\n",
    "        \r\n",
    "        \r\n",
    "        #Sometimes The Random points are chosen poorly and so there ends up being empty clusters\r\n",
    "        #In this particular implementation we want to force K exact clusters.\r\n",
    "        #To take this feature off, simply take away \"force_recalculation\" from the while conditional.\r\n",
    "        force_recalculation = False\r\n",
    "    \r\n",
    "    while (cluster != prev_cluster) or (i > Max_Iterations) or (force_recalculation) :\r\n",
    "        \r\n",
    "        prev_cluster = list(cluster)\r\n",
    "        force_recalculation = False\r\n",
    "        i += 1\r\n",
    "    \r\n",
    "        #Update Point's Cluster Alligiance\r\n",
    "        for p in range(0,len(datapoints)):\r\n",
    "            min_dist = float(\"inf\")\r\n",
    "            \r\n",
    "            #Check min_distance against all centers\r\n",
    "            for c in range(0,len(cluster_centers)):\r\n",
    "                \r\n",
    "                dist = eucldist(datapoints[p],cluster_centers[c])\r\n",
    "                \r\n",
    "                if (dist < min_dist):\r\n",
    "                    min_dist = dist  \r\n",
    "                    cluster[p] = c   # Reassign Point to new Cluster\r\n",
    "        \r\n",
    "        \r\n",
    "        #Update Cluster's Position\r\n",
    "        for k in range(0,len(cluster_centers)):\r\n",
    "            new_center = [0] * d\r\n",
    "            members = 0\r\n",
    "            for p in range(0,len(datapoints)):\r\n",
    "                if (cluster[p] == k): #If this point belongs to the cluster\r\n",
    "                    for j in range(0,d):\r\n",
    "                        new_center[j] += datapoints[p][j]\r\n",
    "                    members += 1\r\n",
    "            \r\n",
    "            for j in range(0,d):\r\n",
    "                if members != 0:\r\n",
    "                    new_center[j] = new_center[j] / float(members) \r\n",
    "                \r\n",
    "                #This means that our initial random assignment was poorly chosen\r\n",
    "                #Change it to a new datapoint to actually force k clusters\r\n",
    "                else: \r\n",
    "                    new_center = random.choice(datapoints)\r\n",
    "                    force_recalculation = True\r\n",
    "                    print (\"Forced Recalculation...\")\r\n",
    "                    \r\n",
    "            \r\n",
    "            cluster_centers[k] = new_center\r\n",
    "    \r\n",
    "        \r\n",
    "    print (\"======== Results ========\")\r\n",
    "    print (\"Clusters\", cluster_centers)\r\n",
    "    print (\"Iterations\",i)\r\n",
    "    print (\"Assignments\", cluster)"
   ],
   "outputs": [],
   "metadata": {}
  },
  {
   "cell_type": "code",
   "execution_count": 16,
   "source": [
    "if __name__ == \"__main__\":\r\n",
    "    #2D - Datapoints List of n d-dimensional vectors. (For this example I already set up 2D Tuples)\r\n",
    "    #Feel free to change to whatever size tuples you want...\r\n",
    "    datapoints = [(5.9, 3.2), (4.6, 2.9), (6.2, 2.8), (4.7, 3.2), (5.5, 4.2), (5, 3), (4.9, 3.1), (6.7, 3.1), (5.1, 3.5), (6, 3)]\r\n",
    "\r\n",
    "    k = 3 # K - Number of Clusters\r\n",
    "      \r\n",
    "    kmeans(k,datapoints) "
   ],
   "outputs": [
    {
     "output_type": "stream",
     "name": "stdout",
     "text": [
      "======== Results ========\n",
      "Clusters [[5.3, 3.85], [4.800000000000001, 3.05], [6.2, 3.025]]\n",
      "Iterations 4\n",
      "Assignments [2, 1, 2, 1, 0, 1, 1, 2, 0, 2]\n"
     ]
    }
   ],
   "metadata": {}
  },
  {
   "cell_type": "code",
   "execution_count": 17,
   "source": [
    "import numpy as np"
   ],
   "outputs": [],
   "metadata": {}
  },
  {
   "cell_type": "code",
   "execution_count": 18,
   "source": [
    "def compute_euclidean_distance(point, centroid):\r\n",
    "    return np.sqrt(np.sum((point - centroid)**2))"
   ],
   "outputs": [],
   "metadata": {}
  },
  {
   "cell_type": "code",
   "execution_count": 19,
   "source": [
    "def assign_label_cluster(distance, data_point, centroids):\n",
    "    index_of_minimum = min(distance, key=distance.get)\n",
    "    return [index_of_minimum, data_point, centroids[index_of_minimum]]"
   ],
   "outputs": [],
   "metadata": {}
  },
  {
   "cell_type": "code",
   "execution_count": 20,
   "source": [
    "def compute_new_centroids(cluster_label, centroids):\n",
    "    return np.array(cluster_label + centroids)/2"
   ],
   "outputs": [],
   "metadata": {}
  },
  {
   "cell_type": "code",
   "execution_count": 21,
   "source": [
    "def iterate_k_means(data_points, centroids, total_iteration):\n",
    "    label = []\n",
    "    cluster_label = []\n",
    "    total_points = len(data_points)\n",
    "    k = len(centroids)\n",
    "    \n",
    "    for iteration in range(0, total_iteration):\n",
    "        for index_point in range(0, total_points):\n",
    "            distance = {}\n",
    "            for index_centroid in range(0, k):\n",
    "                distance[index_centroid] = compute_euclidean_distance(data_points[index_point], centroids[index_centroid])\n",
    "            label = assign_label_cluster(distance, data_points[index_point], centroids)\n",
    "            centroids[label[0]] = compute_new_centroids(label[1], centroids[label[0]])\n",
    "\n",
    "            if iteration == (total_iteration - 1):\n",
    "                cluster_label.append(label)\n",
    "\n",
    "    return [cluster_label, centroids]"
   ],
   "outputs": [],
   "metadata": {}
  },
  {
   "cell_type": "code",
   "execution_count": 22,
   "source": [
    "def print_label_data(result):\n",
    "    print(\"Result of k-Means Clustering: \\n\")\n",
    "    for data in result[0]:\n",
    "        print(\"data point: {}\".format(data[1]))\n",
    "        print(\"cluster number: {} \\n\".format(data[0]))\n",
    "    print(\"Last centroids position: \\n {}\".format(result[1]))"
   ],
   "outputs": [],
   "metadata": {}
  },
  {
   "cell_type": "code",
   "execution_count": 23,
   "source": [
    "def create_centroids():\n",
    "    centroids = []\n",
    "    centroids.append([6.2, 3.2])\n",
    "    centroids.append([6.6, 3.7])\n",
    "    centroids.append([6.5, 3.0])\n",
    "    return np.array(centroids)"
   ],
   "outputs": [],
   "metadata": {}
  },
  {
   "cell_type": "code",
   "execution_count": 28,
   "source": [
    "if __name__ == \"__main__\":\n",
    "    filename = r\"C:\\Users\\appy9\\OneDrive\\Documents\\data.csv\"\n",
    "    data_points = np.genfromtxt(filename, delimiter=\",\")\n",
    "    centroids = create_centroids()\n",
    "    total_iteration = 1\n",
    "    \n",
    "    [cluster_label, new_centroids] = iterate_k_means(data_points, centroids, total_iteration)\n",
    "    print_label_data([cluster_label, new_centroids])\n",
    "    print()"
   ],
   "outputs": [
    {
     "output_type": "stream",
     "name": "stdout",
     "text": [
      "Result of k-Means Clustering: \n",
      "\n",
      "data point: [nan 6.2]\n",
      "cluster number: 0 \n",
      "\n",
      "data point: [4.6 2.9]\n",
      "cluster number: 0 \n",
      "\n",
      "data point: [6.2 2.8]\n",
      "cluster number: 0 \n",
      "\n",
      "data point: [4.7 3.2]\n",
      "cluster number: 0 \n",
      "\n",
      "data point: [5. 3.]\n",
      "cluster number: 0 \n",
      "\n",
      "data point: [5.5 4.2]\n",
      "cluster number: 0 \n",
      "\n",
      "data point: [4.9 3. ]\n",
      "cluster number: 0 \n",
      "\n",
      "data point: [6.7 3.1]\n",
      "cluster number: 0 \n",
      "\n",
      "data point: [5.1 3.1]\n",
      "cluster number: 0 \n",
      "\n",
      "data point: [6. 3.]\n",
      "cluster number: 0 \n",
      "\n",
      "Last centroids position: \n",
      " [[       nan 3.07890625]\n",
      " [6.6        3.7       ]\n",
      " [6.5        3.        ]]\n",
      "\n"
     ]
    }
   ],
   "metadata": {}
  },
  {
   "cell_type": "code",
   "execution_count": 29,
   "source": [
    "import matplotlib.pyplot as plt"
   ],
   "outputs": [],
   "metadata": {}
  },
  {
   "cell_type": "code",
   "execution_count": 30,
   "source": [
    "data_points"
   ],
   "outputs": [
    {
     "output_type": "execute_result",
     "data": {
      "text/plain": [
       "array([[nan, 6.2],\n",
       "       [4.6, 2.9],\n",
       "       [6.2, 2.8],\n",
       "       [4.7, 3.2],\n",
       "       [5. , 3. ],\n",
       "       [5.5, 4.2],\n",
       "       [4.9, 3. ],\n",
       "       [6.7, 3.1],\n",
       "       [5.1, 3.1],\n",
       "       [6. , 3. ]])"
      ]
     },
     "metadata": {},
     "execution_count": 30
    }
   ],
   "metadata": {}
  },
  {
   "cell_type": "code",
   "execution_count": 31,
   "source": [
    "data_points, centroids\n"
   ],
   "outputs": [
    {
     "output_type": "execute_result",
     "data": {
      "text/plain": [
       "(array([[nan, 6.2],\n",
       "        [4.6, 2.9],\n",
       "        [6.2, 2.8],\n",
       "        [4.7, 3.2],\n",
       "        [5. , 3. ],\n",
       "        [5.5, 4.2],\n",
       "        [4.9, 3. ],\n",
       "        [6.7, 3.1],\n",
       "        [5.1, 3.1],\n",
       "        [6. , 3. ]]),\n",
       " array([[       nan, 3.07890625],\n",
       "        [6.6       , 3.7       ],\n",
       "        [6.5       , 3.        ]]))"
      ]
     },
     "metadata": {},
     "execution_count": 31
    }
   ],
   "metadata": {}
  },
  {
   "cell_type": "code",
   "execution_count": 32,
   "source": [
    "cluster_label"
   ],
   "outputs": [
    {
     "output_type": "execute_result",
     "data": {
      "text/plain": [
       "[[0, array([nan, 6.2]), array([       nan, 3.07890625])],\n",
       " [0, array([4.6, 2.9]), array([       nan, 3.07890625])],\n",
       " [0, array([6.2, 2.8]), array([       nan, 3.07890625])],\n",
       " [0, array([4.7, 3.2]), array([       nan, 3.07890625])],\n",
       " [0, array([5., 3.]), array([       nan, 3.07890625])],\n",
       " [0, array([5.5, 4.2]), array([       nan, 3.07890625])],\n",
       " [0, array([4.9, 3. ]), array([       nan, 3.07890625])],\n",
       " [0, array([6.7, 3.1]), array([       nan, 3.07890625])],\n",
       " [0, array([5.1, 3.1]), array([       nan, 3.07890625])],\n",
       " [0, array([6., 3.]), array([       nan, 3.07890625])]]"
      ]
     },
     "metadata": {},
     "execution_count": 32
    }
   ],
   "metadata": {}
  },
  {
   "cell_type": "code",
   "execution_count": 33,
   "source": [
    "c1x=[]\n",
    "c2x=[]\n",
    "c3x=[]\n",
    "c1y=[]\n",
    "c2y=[]\n",
    "c3y=[]\n",
    "for data in cluster_label:\n",
    "    if data[0] == 0:\n",
    "        c1x.append(data[1][0])\n",
    "        c1y.append(data[1][1])\n",
    "    if data[0] == 1:\n",
    "        c2x.append(data[1][0])\n",
    "        c2y.append(data[1][1])\n",
    "    if data[0] == 2:\n",
    "        c3x.append(data[1][0])\n",
    "        c3y.append(data[1][1])"
   ],
   "outputs": [],
   "metadata": {}
  },
  {
   "cell_type": "code",
   "execution_count": 34,
   "source": [
    "plt.style.available"
   ],
   "outputs": [
    {
     "output_type": "execute_result",
     "data": {
      "text/plain": [
       "['Solarize_Light2',\n",
       " '_classic_test_patch',\n",
       " 'bmh',\n",
       " 'classic',\n",
       " 'dark_background',\n",
       " 'fast',\n",
       " 'fivethirtyeight',\n",
       " 'ggplot',\n",
       " 'grayscale',\n",
       " 'seaborn',\n",
       " 'seaborn-bright',\n",
       " 'seaborn-colorblind',\n",
       " 'seaborn-dark',\n",
       " 'seaborn-dark-palette',\n",
       " 'seaborn-darkgrid',\n",
       " 'seaborn-deep',\n",
       " 'seaborn-muted',\n",
       " 'seaborn-notebook',\n",
       " 'seaborn-paper',\n",
       " 'seaborn-pastel',\n",
       " 'seaborn-poster',\n",
       " 'seaborn-talk',\n",
       " 'seaborn-ticks',\n",
       " 'seaborn-white',\n",
       " 'seaborn-whitegrid',\n",
       " 'tableau-colorblind10']"
      ]
     },
     "metadata": {},
     "execution_count": 34
    }
   ],
   "metadata": {}
  },
  {
   "cell_type": "code",
   "execution_count": 35,
   "source": [
    "plt.style.use(\"fivethirtyeight\")\n",
    "\n",
    "plt.scatter(c1x, c1y)\n",
    "plt.scatter(c2x, c2y)\n",
    "plt.scatter(c3x, c3y)\n",
    "\n",
    "plt.scatter(centroids[0][0], centroids[0][1], linewidth=3, marker='H')\n",
    "plt.scatter(centroids[1][0], centroids[1][1], linewidth=3, marker='H')\n",
    "plt.scatter(centroids[2][0], centroids[2][1], linewidth=3, marker='H')"
   ],
   "outputs": [
    {
     "output_type": "execute_result",
     "data": {
      "text/plain": [
       "<matplotlib.collections.PathCollection at 0x1b3fa963b80>"
      ]
     },
     "metadata": {},
     "execution_count": 35
    },
    {
     "output_type": "display_data",
     "data": {
      "text/plain": [
       "<Figure size 432x288 with 1 Axes>"
      ],
      "image/png": "[encoded data removed]"
     },
     "metadata": {}
    }
   ],
   "metadata": {}
  },
  {
   "cell_type": "code",
   "execution_count": null,
   "source": [],
   "outputs": [],
   "metadata": {}
  }
 ],
 "metadata": {
  "kernelspec": {
   "display_name": "Python 3 (ipykernel)",
   "language": "python",
   "name": "python3"
  },
  "language_info": {
   "codemirror_mode": {
    "name": "ipython",
    "version": 3
   },
   "file_extension": ".py",
   "mimetype": "text/x-python",
   "name": "python",
   "nbconvert_exporter": "python",
   "pygments_lexer": "ipython3",
   "version": "3.9.7"
  }
 },
 "nbformat": 4,
 "nbformat_minor": 5
}