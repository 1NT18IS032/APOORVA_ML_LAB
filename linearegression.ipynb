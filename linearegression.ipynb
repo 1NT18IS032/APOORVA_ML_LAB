{
 "cells": [
  {
   "cell_type": "code",
   "execution_count": 1,
   "metadata": {},
   "outputs": [],
   "source": [
    "import numpy as np\n",
    "import pandas as pd\n",
    "import math\n",
    "import scipy.stats\n",
    "import matplotlib.pyplot as plt"
   ]
  },
  {
   "cell_type": "code",
   "execution_count": 2,
   "metadata": {},
   "outputs": [],
   "source": [
    "df = pd.read_csv(\"lenreg.csv\")"
   ]
  },
  {
   "cell_type": "code",
   "execution_count": 3,
   "metadata": {},
   "outputs": [
    {
     "data": {
      "text/html": [
       "<div>\n",
       "<style scoped>\n",
       "    .dataframe tbody tr th:only-of-type {\n",
       "        vertical-align: middle;\n",
       "    }\n",
       "\n",
       "    .dataframe tbody tr th {\n",
       "        vertical-align: top;\n",
       "    }\n",
       "\n",
       "    .dataframe thead th {\n",
       "        text-align: right;\n",
       "    }\n",
       "</style>\n",
       "<table border=\"1\" class=\"dataframe\">\n",
       "  <thead>\n",
       "    <tr style=\"text-align: right;\">\n",
       "      <th></th>\n",
       "      <th>x</th>\n",
       "      <th>y</th>\n",
       "    </tr>\n",
       "  </thead>\n",
       "  <tbody>\n",
       "    <tr>\n",
       "      <td>0</td>\n",
       "      <td>6.1101</td>\n",
       "      <td>17.5920</td>\n",
       "    </tr>\n",
       "    <tr>\n",
       "      <td>1</td>\n",
       "      <td>5.5277</td>\n",
       "      <td>9.1302</td>\n",
       "    </tr>\n",
       "    <tr>\n",
       "      <td>2</td>\n",
       "      <td>8.5186</td>\n",
       "      <td>13.6620</td>\n",
       "    </tr>\n",
       "    <tr>\n",
       "      <td>3</td>\n",
       "      <td>7.0032</td>\n",
       "      <td>11.8540</td>\n",
       "    </tr>\n",
       "    <tr>\n",
       "      <td>4</td>\n",
       "      <td>5.8598</td>\n",
       "      <td>6.8233</td>\n",
       "    </tr>\n",
       "  </tbody>\n",
       "</table>\n",
       "</div>"
      ],
      "text/plain": [
       "        x        y\n",
       "0  6.1101  17.5920\n",
       "1  5.5277   9.1302\n",
       "2  8.5186  13.6620\n",
       "3  7.0032  11.8540\n",
       "4  5.8598   6.8233"
      ]
     },
     "execution_count": 3,
     "metadata": {},
     "output_type": "execute_result"
    }
   ],
   "source": [
    "df.head()"
   ]
  },
  {
   "cell_type": "code",
   "execution_count": 4,
   "metadata": {},
   "outputs": [],
   "source": [
    "X = df['x'].values\n",
    "Y = df['y'].values"
   ]
  },
  {
   "cell_type": "code",
   "execution_count": 5,
   "metadata": {},
   "outputs": [
    {
     "name": "stdout",
     "output_type": "stream",
     "text": [
      "[ 6.1101  5.5277  8.5186  7.0032  5.8598  8.3829  7.4764  8.5781  6.4862\n",
      "  5.0546  5.7107 14.164   5.734   8.4084  5.6407  5.3794  6.3654  5.1301\n",
      "  6.4296  7.0708  6.1891 20.27    5.4901  6.3261  5.5649 18.945  12.828\n",
      " 10.957  13.176  22.203   5.2524  6.5894  9.2482  5.8918  8.2111  7.9334\n",
      "  8.0959  5.6063 12.836   6.3534  5.4069  6.8825 11.708   5.7737  7.8247\n",
      "  7.0931  5.0702  5.8014 11.7     5.5416  7.5402  5.3077  7.4239  7.6031\n",
      "  6.3328  6.3589  6.2742  5.6397  9.3102  9.4536  8.8254  5.1793 21.279\n",
      " 14.908  18.959   7.2182  8.2951 10.236   5.4994 20.341  10.136   7.3345\n",
      "  6.0062  7.2259  5.0269  6.5479  7.5386  5.0365 10.274   5.1077  5.7292\n",
      "  5.1884  6.3557  9.7687  6.5159  8.5172  9.1802  6.002   5.5204  5.0594\n",
      "  5.7077  7.6366  5.8707  5.3054  8.2934 13.394   5.4369]\n"
     ]
    },
    {
     "data": {
      "text/plain": [
       "numpy.ndarray"
      ]
     },
     "execution_count": 5,
     "metadata": {},
     "output_type": "execute_result"
    }
   ],
   "source": [
    "print(X)\n",
    "type(X)"
   ]
  },
  {
   "cell_type": "code",
   "execution_count": 6,
   "metadata": {},
   "outputs": [
    {
     "name": "stdout",
     "output_type": "stream",
     "text": [
      "[17.592    9.1302  13.662   11.854    6.8233  11.886    4.3483  12.\n",
      "  6.5987   3.8166   3.2522  15.505    3.1551   7.2258   0.71618  3.5129\n",
      "  5.3048   0.56077  3.6518   5.3893   3.1386  21.767    4.263    5.1875\n",
      "  3.0825  22.638   13.501    7.0467  14.692   24.147   -1.22     5.9966\n",
      " 12.134    1.8495   6.5426   4.5623   4.1164   3.3928  10.117    5.4974\n",
      "  0.55657  3.9115   5.3854   2.4406   6.7318   1.0463   5.1337   1.844\n",
      "  8.0043   1.0179   6.7504   1.8396   4.2885   4.9981   1.4233  -1.4211\n",
      "  2.4756   4.6042   3.9624   5.4141   5.1694  -0.74279 17.929   12.054\n",
      " 17.054    4.8852   5.7442   7.7754   1.0173  20.992    6.6799   4.0259\n",
      "  1.2784   3.3411  -2.6807   0.29678  3.8845   5.7014   6.7526   2.0576\n",
      "  0.47953  0.20421  0.67861  7.5435   5.3436   4.2415   6.7981   0.92695\n",
      "  0.152    2.8214   1.8451   4.2959   7.2029   1.9869   0.14454  9.0551\n",
      "  0.61705]\n"
     ]
    }
   ],
   "source": [
    "print(Y)\n"
   ]
  },
  {
   "cell_type": "code",
   "execution_count": null,
   "metadata": {},
   "outputs": [],
   "source": []
  },
  {
   "cell_type": "code",
   "execution_count": 8,
   "metadata": {},
   "outputs": [
    {
     "name": "stdout",
     "output_type": "stream",
     "text": [
      "Std Dev\n",
      " x    3.849884\n",
      "y    5.481785\n",
      "dtype: float64\n"
     ]
    }
   ],
   "source": [
    "mean_x=np.mean(X)\n",
    "print(\"Std Dev\\n\",np.std(df))"
   ]
  },
  {
   "cell_type": "code",
   "execution_count": 9,
   "metadata": {},
   "outputs": [
    {
     "name": "stdout",
     "output_type": "stream",
     "text": [
      "Mean of X and Y\n",
      " x    8.159800\n",
      "y    5.839135\n",
      "dtype: float64\n"
     ]
    }
   ],
   "source": [
    "print(\"Mean of X and Y\\n\", np.mean(df) )"
   ]
  },
  {
   "cell_type": "code",
   "execution_count": 21,
   "metadata": {},
   "outputs": [],
   "source": [
    "import scipy.stats\n",
    "r=scipy.stats.pearsonr(X,Y)[0]"
   ]
  },
  {
   "cell_type": "code",
   "execution_count": 11,
   "metadata": {},
   "outputs": [
    {
     "data": {
      "text/plain": [
       "0.8378732325263407"
      ]
     },
     "execution_count": 11,
     "metadata": {},
     "output_type": "execute_result"
    }
   ],
   "source": [
    "r"
   ]
  },
  {
   "cell_type": "code",
   "execution_count": 12,
   "metadata": {},
   "outputs": [],
   "source": [
    "std_x=np.std(X)"
   ]
  },
  {
   "cell_type": "code",
   "execution_count": 13,
   "metadata": {},
   "outputs": [
    {
     "data": {
      "text/plain": [
       "3.849883995922715"
      ]
     },
     "execution_count": 13,
     "metadata": {},
     "output_type": "execute_result"
    }
   ],
   "source": [
    "std_x"
   ]
  },
  {
   "cell_type": "code",
   "execution_count": 14,
   "metadata": {},
   "outputs": [],
   "source": [
    "std_y=np.std(Y)"
   ]
  },
  {
   "cell_type": "code",
   "execution_count": 15,
   "metadata": {},
   "outputs": [
    {
     "data": {
      "text/plain": [
       "5.48178525707763"
      ]
     },
     "execution_count": 15,
     "metadata": {},
     "output_type": "execute_result"
    }
   ],
   "source": [
    "std_y"
   ]
  },
  {
   "cell_type": "code",
   "execution_count": 16,
   "metadata": {},
   "outputs": [],
   "source": [
    "mean_x=np.mean(X)"
   ]
  },
  {
   "cell_type": "code",
   "execution_count": 17,
   "metadata": {},
   "outputs": [
    {
     "data": {
      "text/plain": [
       "8.159799999999999"
      ]
     },
     "execution_count": 17,
     "metadata": {},
     "output_type": "execute_result"
    }
   ],
   "source": [
    "mean_x"
   ]
  },
  {
   "cell_type": "code",
   "execution_count": 18,
   "metadata": {},
   "outputs": [],
   "source": [
    "mean_y=np.mean(Y)"
   ]
  },
  {
   "cell_type": "code",
   "execution_count": 19,
   "metadata": {},
   "outputs": [
    {
     "data": {
      "text/plain": [
       "5.839135051546393"
      ]
     },
     "execution_count": 19,
     "metadata": {},
     "output_type": "execute_result"
    }
   ],
   "source": [
    "mean_y"
   ]
  },
  {
   "cell_type": "code",
   "execution_count": 49,
   "metadata": {},
   "outputs": [],
   "source": [
    "m=r*(std_y/std_x)"
   ]
  },
  {
   "cell_type": "code",
   "execution_count": 50,
   "metadata": {},
   "outputs": [
    {
     "data": {
      "text/plain": [
       "1.1930336441895937"
      ]
     },
     "execution_count": 50,
     "metadata": {},
     "output_type": "execute_result"
    }
   ],
   "source": [
    "m"
   ]
  },
  {
   "cell_type": "code",
   "execution_count": 51,
   "metadata": {},
   "outputs": [],
   "source": [
    "c=mean_y-m*mean_x"
   ]
  },
  {
   "cell_type": "code",
   "execution_count": 55,
   "metadata": {},
   "outputs": [
    {
     "data": {
      "text/plain": [
       "-3.895780878311852"
      ]
     },
     "execution_count": 55,
     "metadata": {},
     "output_type": "execute_result"
    }
   ],
   "source": [
    "c"
   ]
  },
  {
   "cell_type": "code",
   "execution_count": 56,
   "metadata": {},
   "outputs": [],
   "source": [
    "ycap=[]"
   ]
  },
  {
   "cell_type": "code",
   "execution_count": 57,
   "metadata": {},
   "outputs": [],
   "source": [
    "for i in X:\n",
    "    yhat=m*i+c\n",
    "    ycap.append(yhat)"
   ]
  },
  {
   "cell_type": "code",
   "execution_count": 58,
   "metadata": {},
   "outputs": [
    {
     "data": {
      "text/plain": [
       "[3.3937739910509848,\n",
       " 2.6989511966749653,\n",
       " 6.26719552308162,\n",
       " 4.45927233867671,\n",
       " 3.0951576699103294,\n",
       " 6.105300857565092,\n",
       " 5.023815859107225,\n",
       " 6.3381810249109005,\n",
       " 3.842473944630691,\n",
       " 2.134526979608868,\n",
       " 2.917276353561661,\n",
       " 13.002347657989555,\n",
       " 2.9450740374712785,\n",
       " 6.135723215491929,\n",
       " 2.833763998468389,\n",
       " 2.522024307241649,\n",
       " 3.698355480412588,\n",
       " 2.224601019745182,\n",
       " 3.774948240369559,\n",
       " 4.539921413023928,\n",
       " 3.4880236489419625,\n",
       " 20.28701108941121,\n",
       " 2.654093131653436,\n",
       " 3.651469258195937,\n",
       " 2.743332048238818,\n",
       " 18.706241510860004,\n",
       " 11.408454709352256,\n",
       " 9.176288761073527,\n",
       " 11.823630417530232,\n",
       " 22.593145123629697,\n",
       " 2.3705090344295696,\n",
       " 3.965595016711057,\n",
       " 7.137632869882349,\n",
       " 3.1333347465243957,\n",
       " 5.9003376774933205,\n",
       " 5.56903223450187,\n",
       " 5.76290020168268,\n",
       " 2.7927236411082674,\n",
       " 11.417998978505771,\n",
       " 3.6840390766823123,\n",
       " 2.5548327324568625,\n",
       " 4.315273177823027,\n",
       " 10.07225702785991,\n",
       " 2.992437473145605,\n",
       " 5.439349477378462,\n",
       " 4.566526063289354,\n",
       " 2.153138304458226,\n",
       " 3.025484505089657,\n",
       " 10.062712758706393,\n",
       " 2.7155343643292005,\n",
       " 5.099931405606522,\n",
       " 2.4364837949532543,\n",
       " 4.9611815927872716,\n",
       " 5.174973221826049,\n",
       " 3.6594625836120063,\n",
       " 3.6906007617253556,\n",
       " 3.5895508120624973,\n",
       " 2.8325709648241997,\n",
       " 7.211600955822103,\n",
       " 7.382681980398891,\n",
       " 6.633218245118988,\n",
       " 2.28329827503931,\n",
       " 21.490782036398514,\n",
       " 13.88996468926661,\n",
       " 18.722943981878657,\n",
       " 4.715774572177473,\n",
       " 6.000552503605245,\n",
       " 8.316111503612829,\n",
       " 2.665188344544399,\n",
       " 20.37171647814867,\n",
       " 8.196808139193871,\n",
       " 4.854524384996724,\n",
       " 3.2698177954196854,\n",
       " 4.724960931237733,\n",
       " 2.101479947664817,\n",
       " 3.916084120477189,\n",
       " 5.098022551775818,\n",
       " 2.112933070649037,\n",
       " 8.361446782092035,\n",
       " 2.1978770661153364,\n",
       " 2.939347475979168,\n",
       " 2.294154881201435,\n",
       " 3.686783054063948,\n",
       " 7.758606881683033,\n",
       " 3.8779070438631216,\n",
       " 6.265525275979757,\n",
       " 7.056506582077455,\n",
       " 3.2648070541140903,\n",
       " 2.6902420510723815,\n",
       " 2.1402535411009787,\n",
       " 2.913697252629092,\n",
       " 5.214939848906399,\n",
       " 3.1081617366319962,\n",
       " 2.4337398175716176,\n",
       " 5.998524346410125,\n",
       " 12.083711751963566,\n",
       " 2.590623741782549]"
      ]
     },
     "execution_count": 58,
     "metadata": {},
     "output_type": "execute_result"
    }
   ],
   "source": [
    "ycap"
   ]
  },
  {
   "cell_type": "code",
   "execution_count": 59,
   "metadata": {},
   "outputs": [
    {
     "name": "stdout",
     "output_type": "stream",
     "text": [
      "[3.3937739910509848, 2.6989511966749653, 6.26719552308162, 4.45927233867671, 3.0951576699103294, 6.105300857565092, 5.023815859107225, 6.3381810249109005, 3.842473944630691, 2.134526979608868, 2.917276353561661, 13.002347657989555, 2.9450740374712785, 6.135723215491929, 2.833763998468389, 2.522024307241649, 3.698355480412588, 2.224601019745182, 3.774948240369559, 4.539921413023928, 3.4880236489419625, 20.28701108941121, 2.654093131653436, 3.651469258195937, 2.743332048238818, 18.706241510860004, 11.408454709352256, 9.176288761073527, 11.823630417530232, 22.593145123629697, 2.3705090344295696, 3.965595016711057, 7.137632869882349, 3.1333347465243957, 5.9003376774933205, 5.56903223450187, 5.76290020168268, 2.7927236411082674, 11.417998978505771, 3.6840390766823123, 2.5548327324568625, 4.315273177823027, 10.07225702785991, 2.992437473145605, 5.439349477378462, 4.566526063289354, 2.153138304458226, 3.025484505089657, 10.062712758706393, 2.7155343643292005, 5.099931405606522, 2.4364837949532543, 4.9611815927872716, 5.174973221826049, 3.6594625836120063, 3.6906007617253556, 3.5895508120624973, 2.8325709648241997, 7.211600955822103, 7.382681980398891, 6.633218245118988, 2.28329827503931, 21.490782036398514, 13.88996468926661, 18.722943981878657, 4.715774572177473, 6.000552503605245, 8.316111503612829, 2.665188344544399, 20.37171647814867, 8.196808139193871, 4.854524384996724, 3.2698177954196854, 4.724960931237733, 2.101479947664817, 3.916084120477189, 5.098022551775818, 2.112933070649037, 8.361446782092035, 2.1978770661153364, 2.939347475979168, 2.294154881201435, 3.686783054063948, 7.758606881683033, 3.8779070438631216, 6.265525275979757, 7.056506582077455, 3.2648070541140903, 2.6902420510723815, 2.1402535411009787, 2.913697252629092, 5.214939848906399, 3.1081617366319962, 2.4337398175716176, 5.998524346410125, 12.083711751963566, 2.590623741782549]\n",
      "97\n"
     ]
    }
   ],
   "source": [
    "print(ycap)\n",
    "print(len(X))"
   ]
  },
  {
   "cell_type": "code",
   "execution_count": 60,
   "metadata": {},
   "outputs": [
    {
     "data": {
      "text/plain": [
       "[<matplotlib.lines.Line2D at 0x7f5541df6a10>]"
      ]
     },
     "execution_count": 60,
     "metadata": {},
     "output_type": "execute_result"
    },
    {
     "data": {
      "image/png": "[encoded data removed]",
      "text/plain": [
       "<Figure size 432x288 with 1 Axes>"
      ]
     },
     "metadata": {
      "needs_background": "light"
     },
     "output_type": "display_data"
    }
   ],
   "source": [
    "plt.scatter(X,Y,color=\"red\")\n",
    "plt.plot(X,ycap,color=\"green\")"
   ]
  },
  {
   "cell_type": "code",
   "execution_count": 61,
   "metadata": {},
   "outputs": [
    {
     "name": "stdout",
     "output_type": "stream",
     "text": [
      "0     14.198226\n",
      "1      6.431249\n",
      "2      7.394804\n",
      "3      7.394728\n",
      "4      3.728142\n",
      "        ...    \n",
      "92     4.094738\n",
      "93    -0.446840\n",
      "94    -5.853984\n",
      "95    -3.028612\n",
      "96    -1.973574\n",
      "Name: y, Length: 97, dtype: float64\n"
     ]
    }
   ],
   "source": [
    "cost=df.y-ycap\n",
    "print(cost)"
   ]
  },
  {
   "cell_type": "code",
   "execution_count": 62,
   "metadata": {},
   "outputs": [
    {
     "name": "stdout",
     "output_type": "stream",
     "text": [
      "2046.3146047180403\n"
     ]
    }
   ],
   "source": [
    "d1=(ycap-mean_y)**2\n",
    "ssr=sum(d1)\n",
    "print(ssr)"
   ]
  },
  {
   "cell_type": "code",
   "execution_count": 63,
   "metadata": {},
   "outputs": [
    {
     "name": "stdout",
     "output_type": "stream",
     "text": [
      "868.5324469391842\n"
     ]
    }
   ],
   "source": [
    "#sse\n",
    "d=(Y-ycap)**2\n",
    "sse=sum(d)\n",
    "print(sse)"
   ]
  },
  {
   "cell_type": "code",
   "execution_count": 65,
   "metadata": {},
   "outputs": [
    {
     "name": "stdout",
     "output_type": "stream",
     "text": [
      "2914.8470516572247\n"
     ]
    }
   ],
   "source": [
    "#sst\n",
    "d2=(Y-mean_y)**2\n",
    "sst=sum(d2)\n",
    "print(sst)"
   ]
  },
  {
   "cell_type": "code",
   "execution_count": 66,
   "metadata": {},
   "outputs": [
    {
     "name": "stdout",
     "output_type": "stream",
     "text": [
      "0.7020315537841398\n"
     ]
    }
   ],
   "source": [
    "#r2\n",
    "r=ssr/sst\n",
    "print(r)"
   ]
  },
  {
   "cell_type": "code",
   "execution_count": null,
   "metadata": {},
   "outputs": [],
   "source": []
  }
 ],
 "metadata": {
  "kernelspec": {
   "display_name": "Python 3",
   "language": "python",
   "name": "python3"
  },
  "language_info": {
   "codemirror_mode": {
    "name": "ipython",
    "version": 3
   },
   "file_extension": ".py",
   "mimetype": "text/x-python",
   "name": "python",
   "nbconvert_exporter": "python",
   "pygments_lexer": "ipython3",
   "version": "3.7.4"
  }
 },
 "nbformat": 4,
 "nbformat_minor": 2
}
